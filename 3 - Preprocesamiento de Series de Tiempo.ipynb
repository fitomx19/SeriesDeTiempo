{
 "cells": [
  {
   "cell_type": "code",
   "execution_count": 1,
   "metadata": {},
   "outputs": [],
   "source": [
    "# Execute if necessary\n",
    "# %%capture\n",
    "# !pip install numpy seaborn matplotlib pandas"
   ]
  },
  {
   "cell_type": "code",
   "execution_count": 5,
   "metadata": {},
   "outputs": [],
   "source": [
    "#pip install statsmodels"
   ]
  },
  {
   "cell_type": "code",
   "execution_count": 6,
   "metadata": {},
   "outputs": [],
   "source": [
    "import numpy as np\n",
    "import seaborn as sns\n",
    "import matplotlib.pyplot as plt\n",
    "import pandas as pd\n",
    "from typing import Dict, Tuple, Union, List\n",
    "from statsmodels.graphics.tsaplots import plot_acf"
   ]
  },
  {
   "cell_type": "markdown",
   "metadata": {},
   "source": [
    "# Práctica 3: Prepocesamiento de Series de Tiempo"
   ]
  },
  {
   "cell_type": "markdown",
   "metadata": {},
   "source": [
    "__Instrucciones__: A continuación hay una lista de funciones que debe implementar o tareas que debe desarrollar. La descripción de cada una de ellas se encuentra en la definición de cada una de las funciones. Cada función está marcada por &#x1F625;,  &#x1F643; o &#x1F921;. Las marcas indican:\n",
    "\n",
    "- &#x1F625;: Indican una entrega que debe ser hecha dentro de la misma sesión de la asignación. \n",
    "- &#x1F643;: Indican una entrega que puede ser hecha hasta la siguiente sesión.\n",
    "- &#x1F921;: Debe mostrar un avance en la misma sesión, pero la entrega puede ser hecha en la siguiente.\n",
    "\n",
    "Aquellas entregas parciales que no sean hechas el día de la asignación ya no serán válidas para las entregas totales, sin embargo, las entregas totales seguirán siendo válidas."
   ]
  },
  {
   "cell_type": "markdown",
   "metadata": {},
   "source": [
    "En esta sección se incluye una serie de tiempo real. El dataset importado incluye cuatro series de tiempo de la ciudad de Delhi, India, desde el 1 de enero de 2013 al 1 de enero de 2017 en muestreos diarios. Las series de tiempo incluidas son:\n",
    "\n",
    "- __meantemp__: Temperatura promedio del día.\n",
    "- __humidity__: Humedad promedio del día.\n",
    "- __wind_speed__: Velocidad promedio del viento en el día.\n",
    "- __meanpressure__: Presión promedio del día.\n",
    "\n",
    "Este conjunto de datos no contiene datos nulos, por lo que no es necesario realizar una imputación dedatos."
   ]
  },
  {
   "cell_type": "code",
   "execution_count": 7,
   "metadata": {},
   "outputs": [
    {
     "data": {
      "text/html": [
       "<div>\n",
       "<style scoped>\n",
       "    .dataframe tbody tr th:only-of-type {\n",
       "        vertical-align: middle;\n",
       "    }\n",
       "\n",
       "    .dataframe tbody tr th {\n",
       "        vertical-align: top;\n",
       "    }\n",
       "\n",
       "    .dataframe thead th {\n",
       "        text-align: right;\n",
       "    }\n",
       "</style>\n",
       "<table border=\"1\" class=\"dataframe\">\n",
       "  <thead>\n",
       "    <tr style=\"text-align: right;\">\n",
       "      <th></th>\n",
       "      <th>date</th>\n",
       "      <th>meantemp</th>\n",
       "      <th>humidity</th>\n",
       "      <th>wind_speed</th>\n",
       "      <th>meanpressure</th>\n",
       "    </tr>\n",
       "  </thead>\n",
       "  <tbody>\n",
       "    <tr>\n",
       "      <th>0</th>\n",
       "      <td>2013-01-01</td>\n",
       "      <td>10.000000</td>\n",
       "      <td>84.5</td>\n",
       "      <td>0.000000</td>\n",
       "      <td>1015.666667</td>\n",
       "    </tr>\n",
       "    <tr>\n",
       "      <th>1</th>\n",
       "      <td>2013-01-02</td>\n",
       "      <td>7.400000</td>\n",
       "      <td>92.0</td>\n",
       "      <td>2.980000</td>\n",
       "      <td>1017.800000</td>\n",
       "    </tr>\n",
       "    <tr>\n",
       "      <th>2</th>\n",
       "      <td>2013-01-03</td>\n",
       "      <td>7.166667</td>\n",
       "      <td>87.0</td>\n",
       "      <td>4.633333</td>\n",
       "      <td>1018.666667</td>\n",
       "    </tr>\n",
       "  </tbody>\n",
       "</table>\n",
       "</div>"
      ],
      "text/plain": [
       "        date   meantemp  humidity  wind_speed  meanpressure\n",
       "0 2013-01-01  10.000000      84.5    0.000000   1015.666667\n",
       "1 2013-01-02   7.400000      92.0    2.980000   1017.800000\n",
       "2 2013-01-03   7.166667      87.0    4.633333   1018.666667"
      ]
     },
     "execution_count": 7,
     "metadata": {},
     "output_type": "execute_result"
    }
   ],
   "source": [
    "df = pd.read_csv(\"DailyDelhiClimateTrain.csv\")\n",
    "df[\"date\"] = pd.to_datetime(df[\"date\"])\n",
    "df.head(3)"
   ]
  },
  {
   "cell_type": "markdown",
   "metadata": {},
   "source": [
    "## Asignación 1 &#x1F625;\n",
    "\n",
    "La serie de tiempo __meanpressure__ contiene outliers. Analice la serie de tiempo y con base en su análisis, sustituya los outliers por valores válidos."
   ]
  },
  {
   "cell_type": "code",
   "execution_count": 9,
   "metadata": {},
   "outputs": [
    {
     "data": {
      "text/plain": [
       "count    1462.000000\n",
       "mean     1006.501856\n",
       "std        42.876389\n",
       "min        -3.041667\n",
       "25%      1011.104548\n",
       "50%      1011.104548\n",
       "75%      1011.104548\n",
       "max      1011.104548\n",
       "Name: meanpressure, dtype: float64"
      ]
     },
     "execution_count": 9,
     "metadata": {},
     "output_type": "execute_result"
    }
   ],
   "source": [
    "#eliminar los outliers de la columna \"meantpressure\" y sustituirlos por el valor medio de la columna\n",
    "df[\"meanpressure\"] = df[\"meanpressure\"].mask(df[\"meanpressure\"] > 1000, df[\"meanpressure\"].mean())\n",
    "df[\"meanpressure\"].describe()\n",
    "\n"
   ]
  },
  {
   "cell_type": "markdown",
   "metadata": {},
   "source": [
    "## Asignación 2 &#x1F625;\n",
    "\n",
    "Normalice todas las series de tiempo para que tengan media cero y varianza 1.  Imprima la descripción del dataframe para validar."
   ]
  },
  {
   "cell_type": "code",
   "execution_count": 12,
   "metadata": {},
   "outputs": [
    {
     "data": {
      "text/html": [
       "<div>\n",
       "<style scoped>\n",
       "    .dataframe tbody tr th:only-of-type {\n",
       "        vertical-align: middle;\n",
       "    }\n",
       "\n",
       "    .dataframe tbody tr th {\n",
       "        vertical-align: top;\n",
       "    }\n",
       "\n",
       "    .dataframe thead th {\n",
       "        text-align: right;\n",
       "    }\n",
       "</style>\n",
       "<table border=\"1\" class=\"dataframe\">\n",
       "  <thead>\n",
       "    <tr style=\"text-align: right;\">\n",
       "      <th></th>\n",
       "      <th>date</th>\n",
       "      <th>meantemp</th>\n",
       "      <th>humidity</th>\n",
       "      <th>wind_speed</th>\n",
       "      <th>meanpressure</th>\n",
       "    </tr>\n",
       "  </thead>\n",
       "  <tbody>\n",
       "    <tr>\n",
       "      <th>0</th>\n",
       "      <td>2013-01-01</td>\n",
       "      <td>-2.108778</td>\n",
       "      <td>1.414955</td>\n",
       "      <td>-1.491189</td>\n",
       "      <td>0.107348</td>\n",
       "    </tr>\n",
       "    <tr>\n",
       "      <th>1</th>\n",
       "      <td>2013-01-02</td>\n",
       "      <td>-2.462611</td>\n",
       "      <td>1.862191</td>\n",
       "      <td>-0.837909</td>\n",
       "      <td>0.107348</td>\n",
       "    </tr>\n",
       "    <tr>\n",
       "      <th>2</th>\n",
       "      <td>2013-01-03</td>\n",
       "      <td>-2.494366</td>\n",
       "      <td>1.564034</td>\n",
       "      <td>-0.475464</td>\n",
       "      <td>0.107348</td>\n",
       "    </tr>\n",
       "  </tbody>\n",
       "</table>\n",
       "</div>"
      ],
      "text/plain": [
       "        date  meantemp  humidity  wind_speed  meanpressure\n",
       "0 2013-01-01 -2.108778  1.414955   -1.491189      0.107348\n",
       "1 2013-01-02 -2.462611  1.862191   -0.837909      0.107348\n",
       "2 2013-01-03 -2.494366  1.564034   -0.475464      0.107348"
      ]
     },
     "execution_count": 12,
     "metadata": {},
     "output_type": "execute_result"
    }
   ],
   "source": [
    "# normalizar las columnas \"meantemp\" , \"meanpressure\" , \"humidity\" , \"wind_speed\" para que tengan media 0 y desviación estándar 1\n",
    "# usar la función \"transform\" de pandas\n",
    "df[\"meantemp\"] = (df[\"meantemp\"] - df[\"meantemp\"].mean()) / df[\"meantemp\"].std()\n",
    "df[\"meanpressure\"] = (df[\"meanpressure\"] - df[\"meanpressure\"].mean()) / df[\"meanpressure\"].std()\n",
    "df[\"humidity\"] = (df[\"humidity\"] - df[\"humidity\"].mean()) / df[\"humidity\"].std()\n",
    "df[\"wind_speed\"] = (df[\"wind_speed\"] - df[\"wind_speed\"].mean()) / df[\"wind_speed\"].std()\n",
    "df.head(3)\n",
    "\n"
   ]
  },
  {
   "cell_type": "markdown",
   "metadata": {},
   "source": [
    "## Asignación 3 &#x1F625;\n",
    "\n",
    "Entrene una regresión lineal para predecir el valor de __meantemp__ utilizando las series de tiempo __humidity__, __wind_speed__ y __meanpressure__. Use la función _numpy.linalg.lstsq_ para esto. Una vez entrenada la regresión, grafique la serie de tiempo __meantemp__ junto con la serie de tiempo de las predicciones del modelo."
   ]
  },
  {
   "cell_type": "code",
   "execution_count": 23,
   "metadata": {},
   "outputs": [
    {
     "name": "stdout",
     "output_type": "stream",
     "text": [
      "(1462,)\n"
     ]
    },
    {
     "data": {
      "image/png": "[encoded data removed]",
      "text/plain": [
       "<Figure size 640x480 with 1 Axes>"
      ]
     },
     "metadata": {},
     "output_type": "display_data"
    }
   ],
   "source": [
    "#entrenar una regresion lineal para predecir el valor meantemp utilizando las series de tiempo humidity, wind_speed y meanpressure . use la funcion numpy.linalg.lstsq para esto. una vez entrenada la regresion grafique la serie de tiempo meantemp junto con la serie de tiempo de las predicciones del modelo\n",
    "\n",
    "import numpy as np\n",
    "import seaborn as sns\n",
    "import matplotlib.pyplot as plt\n",
    "import pandas as pd\n",
    "from typing import Dict, Tuple, Union, List\n",
    "from statsmodels.graphics.tsaplots import plot_acf\n",
    "\n",
    "df = pd.read_csv(\"DailyDelhiClimateTrain.csv\")\n",
    "df[\"date\"] = pd.to_datetime(df[\"date\"])\n",
    "df.head(3)\n",
    "\n",
    "#eliminar los outliers de la columna \"meantpressure\" y sustituirlos por el valor medio de la columna\n",
    "df[\"meanpressure\"] = df[\"meanpressure\"].mask(df[\"meanpressure\"] > 1000, df[\"meanpressure\"].mean())\n",
    "df[\"meanpressure\"].describe()\n",
    "\n",
    "# normalizar las columnas \"meantemp\" , \"meanpressure\" , \"humidity\" , \"wind_speed\" para que tengan media 0 y desviación estándar 1\n",
    "# usar la función \"transform\" de pandas\n",
    "df[\"meantemp\"] = (df[\"meantemp\"] - df[\"meantemp\"].mean()) / df[\"meantemp\"].std()\n",
    "df[\"meanpressure\"] = (df[\"meanpressure\"] - df[\"meanpressure\"].mean()) / df[\"meanpressure\"].std()\n",
    "df[\"humidity\"] = (df[\"humidity\"] - df[\"humidity\"].mean()) / df[\"humidity\"].std()\n",
    "df[\"wind_speed\"] = (df[\"wind_speed\"] - df[\"wind_speed\"].mean()) / df[\"wind_speed\"].std()\n",
    "df.head(3)\n",
    "\n",
    "\n",
    "meantemp = df[\"meantemp\"].values\n",
    "humidity = df[\"humidity\"].values\n",
    "wind_speed = df[\"wind_speed\"].values\n",
    "meanpressure = df[\"meanpressure\"].values\n",
    "\n",
    "X = np.column_stack((humidity, wind_speed, meanpressure))\n",
    "y = meantemp\n",
    "\n",
    "coeffs, _, _, _ = np.linalg.lstsq(X, y, rcond=None)\n",
    "\n",
    "predictions = X.dot(coeffs)\n",
    "\n",
    "print(predictions.shape)\n",
    "\n",
    "# graficar la serie de tiempo meantemp junto con la serie de tiempo de las predicciones del modelo\n",
    "plt.plot(meantemp, label=\"meantemp\")\n",
    "plt.plot(predictions, label=\"predictions\")\n",
    "plt.legend()\n",
    "plt.show()\n"
   ]
  },
  {
   "cell_type": "markdown",
   "metadata": {},
   "source": [
    "## Asignación 4 &#x1F643;\n",
    "\n",
    "La serie de tiempo __meantemp__ presenta ciclos por temporadas y una ligera tendencia creciente. Entrene una regresión lineal donde las variables independientes estén en función del tiempo que permita replicar estas tendencias. En una sola gráfica imprima la serie de tiempo __meantemp__, la gráfica de la tendencia (predicciones del modelo) y la gráfica sin tendencia, es decir, la resta de la serie de tiempo __meantemp__ y las predicciones del modelo (residuales).\n",
    "\n",
    "Nota: Utilice una frecuencia fija de $1/365$ para replicar los ciclos."
   ]
  },
  {
   "cell_type": "code",
   "execution_count": null,
   "metadata": {},
   "outputs": [],
   "source": [
    "#Entrenar una regresion lineal donde las variables independientes estén en funcion del tiempo que permita replicar estas tendencias.\n",
    "#En una sola grafica imprima la serie de tiempo meantemp , la grafica de la tendencia y la grafica sin tendencia , es decir, la resta de la serie de tiempo meantemp y las predicciones del modelo (residuales)\n",
    "#utilice una frecuencia fija de 1/365 para replicar los ciclos\n",
    "\n"
   ]
  },
  {
   "cell_type": "markdown",
   "metadata": {},
   "source": [
    "## Asignación 5 &#x1F643;\n",
    "\n",
    "Elimine las tendencias de la serie de tiempo __meantemp__ utilizando diferencias de primero orden. Debe realizar dos diferencias, una para eliminar la tendencia creciente y otra para eliminar los ciclos por temporadas. Grafique la serie de tiempo de __meantemp__ junto con la serie de tiempo estacionaria."
   ]
  },
  {
   "cell_type": "markdown",
   "metadata": {},
   "source": [
    "## Asignación 6 &#x1F643;\n",
    "\n",
    "Grafique el correlograma de la serie de tiempo __meantemp__ y el correlograma de __meantemp__ diferenciada (estacionaria). Utilice la función _plot_acf_ para graficar el correlograma."
   ]
  }
 ],
 "metadata": {
  "celltoolbar": "Edit Metadata",
  "kernelspec": {
   "display_name": "Python 3",
   "language": "python",
   "name": "python3"
  },
  "language_info": {
   "codemirror_mode": {
    "name": "ipython",
    "version": 3
   },
   "file_extension": ".py",
   "mimetype": "text/x-python",
   "name": "python",
   "nbconvert_exporter": "python",
   "pygments_lexer": "ipython3",
   "version": "3.10.9"
  }
 },
 "nbformat": 4,
 "nbformat_minor": 4
}
