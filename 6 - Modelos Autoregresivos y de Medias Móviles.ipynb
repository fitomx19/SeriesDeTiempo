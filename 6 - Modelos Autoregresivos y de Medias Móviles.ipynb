{
 "cells": [
  {
   "cell_type": "code",
   "execution_count": 8,
   "metadata": {},
   "outputs": [],
   "source": [
    "# Execute if necessary\n",
    "# %%capture\n",
    "# !pip install numpy seaborn pandas"
   ]
  },
  {
   "cell_type": "code",
   "execution_count": 9,
   "metadata": {},
   "outputs": [],
   "source": [
    "import numpy as np\n",
    "import seaborn as sns\n",
    "import pandas as pd\n",
    "from typing import List"
   ]
  },
  {
   "cell_type": "markdown",
   "metadata": {},
   "source": [
    "# Práctica 6: Modelos Autoregresivos y de Medias Móviles"
   ]
  },
  {
   "cell_type": "markdown",
   "metadata": {},
   "source": [
    "__Instrucciones__: A continuación hay una lista de funciones que debe implementar o tareas que debe desarrollar. La descripción de cada una de ellas se encuentra en la definición de cada una de las funciones.\n",
    "\n",
    "La entrega de la práctica será en la siguiente sesión a menos que la indicación sea otra. La revisión iniciará al iniciar la sesión y únicamente podrá ser evaluada durante la duración de la sesión."
   ]
  },
  {
   "cell_type": "markdown",
   "metadata": {},
   "source": [
    "## Asignación 1\n",
    "\n",
    "Diseñe una clase para un modelo $AR(p)$. La clase debe permitir:\n",
    "\n",
    "1. Recibir el orden $p$ para el que será entrenado ensu construcción.\n",
    "2. Tener un método que permita ajustar los parámetros del modelo usando el algoritmo de Durbin-Levinson.\n",
    "3. Tener un método que permita imprimir el polinomio asociado al modelo. El polinomio tiene la forma\n",
    "\n",
    "    $$\n",
    "    \\phi(z) = 1 - \\phi_1 z - \\phi_2 z^2 - \\cdots - \\phi_p z^p\n",
    "    $$\n",
    "    \n",
    "4. Tener un método que imprima las raices del polinomio asociado. Puede apoyarse de la función _numpy.roots(p)_.\n",
    "5. Un método booleano que indique si el polinomio es causal.\n",
    "6. Un método que grafique la función de autocorrelación parcial (PACF).\n",
    "7. Un método que realice forecasting usando los parámetros calculados.\n",
    "\n",
    "Puede apoyarse de la clase definida debajo."
   ]
  },
  {
   "cell_type": "code",
   "execution_count": 10,
   "metadata": {},
   "outputs": [],
   "source": [
    "class AutoRegressive:\n",
    "    \n",
    "    def __init__(self, p=1):\n",
    "        self.p = p\n",
    "        self.weights = np.zeros(self.p)\n",
    "        \n",
    "    def fit(self, time_series):\n",
    "        \"\"\"\n",
    "        Trainign method. Here you can compute the associated polynomial and its roots.\n",
    "        \"\"\"        \n",
    "        pass\n",
    "    \n",
    "    def print_poly(self):\n",
    "        \"\"\"\n",
    "        Printing polynomial\n",
    "        \"\"\"        \n",
    "        pass\n",
    "    \n",
    "    def print_roots(self):\n",
    "        \"\"\"\n",
    "        Printing roots\n",
    "        \"\"\"        \n",
    "        pass\n",
    "    \n",
    "    def is_causal(self):\n",
    "        \"\"\"\n",
    "        Determine if it is causal using the computed roots\n",
    "        \"\"\"\n",
    "        \n",
    "        return False\n",
    "    \n",
    "    def plot_pacf(self):\n",
    "        \"\"\"\n",
    "        Plot the Partial Autocorrelation Function\n",
    "        \"\"\"\n",
    "        \n",
    "    def forecast(self):\n",
    "        \"\"\"\n",
    "        Forecast\n",
    "        \"\"\"\n",
    "        \n",
    "        pass"
   ]
  },
  {
   "cell_type": "code",
   "execution_count": 11,
   "metadata": {},
   "outputs": [],
   "source": [
    "import numpy as np # Importa la librería numpy para realizar operaciones matemáticas\n",
    "from statsmodels.tsa.stattools import levinson_durbin # Importa la función levinson_durbin para ajustar los parámetros del modelo AR\n",
    "\n",
    "class AR: # Define una clase llamada AR\n",
    "    def __init__(self, p): # Define el método de inicialización que recibe el orden p del modelo\n",
    "        self.p = p # Asigna el valor de p al atributo p de la instancia\n",
    "        self.phi = None # Inicializa el atributo phi como None\n",
    "        self.sigma = None # Inicializa el atributo sigma como None\n",
    "    \n",
    "    def fit(self, data): # Define un método llamado fit que recibe los datos para ajustar el modelo\n",
    "        result = levinson_durbin(data, nlags=self.p, isacov=False) # Ajusta los parámetros del modelo usando el algoritmo de Durbin-Levinson\n",
    "        self.phi = result[2] # Asigna el valor de los coeficientes phi al atributo phi de la instancia\n",
    "        self.sigma = result[0] # Asigna el valor del error estándar al atributo sigma de la instancia\n",
    "    \n",
    "    def print_polynomial(self): # Define un método llamado print_polynomial que imprime el polinomio asociado al modelo\n",
    "        polynomial = [1] + [-x for x in self.phi] # Crea una lista con los coeficientes del polinomio\n",
    "        print(f\"phi(z) = {polynomial[0]} \", end=\"\") # Imprime el primer coeficiente del polinomio\n",
    "        for i in range(1, len(polynomial)): # Itera sobre los demás coeficientes del polinomio\n",
    "            print(f\"{polynomial[i]:+}z^{i} \", end=\"\") # Imprime cada coeficiente con su respectivo exponente\n",
    "    \n",
    "    def print_roots(self): # Define un método llamado print_roots que imprime las raíces del polinomio asociado al modelo\n",
    "        polynomial = [1] + [-x for x in self.phi] # Crea una lista con los coeficientes del polinomio\n",
    "        roots = np.roots(polynomial) # Calcula las raíces del polinomio usando la función roots de numpy\n",
    "        print(f\"Roots: {roots}\") # Imprime las raíces calculadas\n",
    "    \n",
    "    def is_causal(self): # Define un método llamado is_causal que devuelve un valor booleano indicando si el polinomio es causal o no\n",
    "        polynomial = [1] + [-x for x in self.phi] # Crea una lista con los coeficientes del polinomio\n",
    "        roots = np.roots(polynomial) # Calcula las raíces del polinomio usando la función roots de numpy\n",
    "        return np.all(np.abs(roots) > 1) # Devuelve True si todas las raíces tienen un valor absoluto mayor a 1, lo que indica que el polinomio es causal\n",
    "    \n",
    "    def plot_pacf(self): # Define un método llamado plot_pacf que grafica la función de autocorrelación parcial (PACF)\n",
    "        from statsmodels.graphics.tsaplots import plot_pacf # Importa la función plot_pacf para graficar la PACF\n",
    "        plot_pacf(self.phi) # Grafica la PACF usando los coeficientes phi\n",
    "    \n",
    "    def forecast(self, data, steps): # Define un método llamado forecast que realiza predicciones usando los parámetros calculados\n",
    "        result = [] # Inicializa una lista vacía para almacenar las predicciones\n",
    "        for i in range(steps): # Itera sobre el número de pasos a predecir\n",
    "            prediction = np.dot(self.phi, data[-self.p:]) # Calcula la predicción usando el producto punto entre los coeficientes phi y los últimos p valores de data\n",
    "            result.append(prediction) # Agrega la predicción a la lista de resultados\n",
    "            data = np.append(data, prediction) # Agrega la predicción a data para usarla en las siguientes predicciones\n",
    "        return result # Devuelve la lista de predicciones calculadas.\n"
   ]
  },
  {
   "cell_type": "markdown",
   "metadata": {},
   "source": [
    "## Asignación 2\n",
    "\n",
    "Diseñe una clase para un modelo $MA(q)$. La clase debe permitir:\n",
    "\n",
    "1. Recibir el orden $q$ para el que será entrenado ensu construcción.\n",
    "2. Tener un método que permita ajustar los parámetros del modelo usando el algoritmo de Innovations.\n",
    "3. Tener un método que permita imprimir el polinomio asociado al modelo. El polinomio tiene la forma\n",
    "\n",
    "    $$\n",
    "    \\phi(z) = 1 + \\theta_1 z - \\theta_2 z^2 - \\cdots - \\theta_q z^q\n",
    "    $$\n",
    "    \n",
    "4. Tener un método que imprima las raices del polinomio asociado. Puede apoyarse de la función _numpy.roots(p)_.\n",
    "5. Un método booleano que indique si el polinomio es invertible.\n",
    "\n",
    "Puede apoyarse de la clase definida debajo."
   ]
  },
  {
   "cell_type": "code",
   "execution_count": 12,
   "metadata": {},
   "outputs": [],
   "source": [
    "class MovingAverages:\n",
    "    \n",
    "    def __init__(self, p=1):\n",
    "        self.p = p\n",
    "        self.weights = np.zeros(self.p)\n",
    "        \n",
    "    def fit(self, time_series):\n",
    "        \"\"\"\n",
    "        Trainign method. Here you can compute the associated polynomial and its roots.\n",
    "        \"\"\"        \n",
    "        pass\n",
    "    \n",
    "    def print_poly(self):\n",
    "        \"\"\"\n",
    "        Printing polynomial\n",
    "        \"\"\"        \n",
    "        pass\n",
    "    \n",
    "    def print_roots(self):\n",
    "        \"\"\"\n",
    "        Printing roots\n",
    "        \"\"\"        \n",
    "        pass\n",
    "    \n",
    "    def is_invertible(self):\n",
    "        \"\"\"\n",
    "        Determine if it is invertible using the computed roots\n",
    "        \"\"\"\n",
    "        \n",
    "        return False\n",
    "            \n",
    "    def forecast(self):\n",
    "        \"\"\"\n",
    "        Forecast\n",
    "        \"\"\"\n",
    "        \n",
    "        pass"
   ]
  },
  {
   "cell_type": "code",
   "execution_count": 13,
   "metadata": {},
   "outputs": [],
   "source": [
    "import numpy as np # Importa la librería numpy para realizar operaciones matemáticas\n",
    "from statsmodels.tsa.stattools import acf # Importa la función acf para calcular la función de autocorrelación\n",
    "\n",
    "class MA: # Define una clase llamada MA\n",
    "    def __init__(self, q): # Define el método de inicialización que recibe el orden q del modelo\n",
    "        self.q = q # Asigna el valor de q al atributo q de la instancia\n",
    "        self.theta = None # Inicializa el atributo theta como None\n",
    "    \n",
    "    def fit(self, df): # Define un método llamado fit que recibe los datos para ajustar el modelo\n",
    "        r = acf(df, nlags=self.q, fft=True) # Calcula la función de autocorrelación de los datos\n",
    "        R = toeplitz(r[:-1]) # Crea una matriz de Toeplitz con los valores de la función de autocorrelación\n",
    "        R_inv = np.linalg.inv(R) # Calcula la inversa de la matriz R\n",
    "        self.theta = np.dot(R_inv, r[1:]) # Calcula los coeficientes theta usando el producto punto entre R_inv y r[1:]\n",
    "    \n",
    "    def print_polynomial(self): # Define un método llamado print_polynomial que imprime el polinomio asociado al modelo\n",
    "        polynomial = [1] + [x for x in self.theta] # Crea una lista con los coeficientes del polinomio\n",
    "        print(f\"phi(z) = {polynomial[0]} \", end=\"\") # Imprime el primer coeficiente del polinomio\n",
    "        for i in range(1, len(polynomial)): # Itera sobre los demás coeficientes del polinomio\n",
    "            print(f\"{polynomial[i]:+}z^{i} \", end=\"\") # Imprime cada coeficiente con su respectivo exponente\n",
    "    \n",
    "    def print_roots(self): # Define un método llamado print_roots que imprime las raíces del polinomio asociado al modelo\n",
    "        polynomial = [1] + [x for x in self.theta] # Crea una lista con los coeficientes del polinomio\n",
    "        roots = np.roots(polynomial) # Calcula las raíces del polinomio usando la función roots de numpy\n",
    "        print(f\"Roots: {roots}\") # Imprime las raíces calculadas\n",
    "    \n",
    "    def is_invertible(self): # Define un método llamado is_invertible que devuelve un valor booleano indicando si el polinomio es invertible o no\n",
    "        polynomial = [1] + [x for x in self.theta] # Crea una lista con los coeficientes del polinomio\n",
    "        roots = np.roots(polynomial) # Calcula las raíces del polinomio usando la función roots de numpy\n",
    "        return np.all(np.abs(roots) > 1) # Devuelve True si todas las raíces tienen un valor absoluto mayor a 1, lo que indica que el polinomio es invertible.\n"
   ]
  },
  {
   "cell_type": "markdown",
   "metadata": {},
   "source": [
    "## Asignación 3\n",
    "\n",
    "En esta sección se incluye una serie de tiempo real. El dataset importado incluye cuatro series de tiempo de la ciudad de Delhi, India, desde el 1 de enero de 2013 al 1 de enero de 2017 en muestreos diarios. Las series de tiempo incluidas son:\n",
    "\n",
    "- __meantemp__: Temperatura promedio del día.\n",
    "- __humidity__: Humedad promedio del día.\n",
    "- __wind_speed__: Velocidad promedio del viento en el día.\n",
    "- __meanpressure__: Presión promedio del día.\n",
    "\n",
    "Este conjunto de datos no contiene datos nulos, por lo que no es necesario realizar una imputación de datos."
   ]
  },
  {
   "cell_type": "code",
   "execution_count": 14,
   "metadata": {},
   "outputs": [
    {
     "data": {
      "text/html": [
       "<div>\n",
       "<style scoped>\n",
       "    .dataframe tbody tr th:only-of-type {\n",
       "        vertical-align: middle;\n",
       "    }\n",
       "\n",
       "    .dataframe tbody tr th {\n",
       "        vertical-align: top;\n",
       "    }\n",
       "\n",
       "    .dataframe thead th {\n",
       "        text-align: right;\n",
       "    }\n",
       "</style>\n",
       "<table border=\"1\" class=\"dataframe\">\n",
       "  <thead>\n",
       "    <tr style=\"text-align: right;\">\n",
       "      <th></th>\n",
       "      <th>date</th>\n",
       "      <th>meantemp</th>\n",
       "      <th>humidity</th>\n",
       "      <th>wind_speed</th>\n",
       "      <th>meanpressure</th>\n",
       "    </tr>\n",
       "  </thead>\n",
       "  <tbody>\n",
       "    <tr>\n",
       "      <th>0</th>\n",
       "      <td>2013-01-01</td>\n",
       "      <td>10.000000</td>\n",
       "      <td>84.5</td>\n",
       "      <td>0.000000</td>\n",
       "      <td>1015.666667</td>\n",
       "    </tr>\n",
       "    <tr>\n",
       "      <th>1</th>\n",
       "      <td>2013-01-02</td>\n",
       "      <td>7.400000</td>\n",
       "      <td>92.0</td>\n",
       "      <td>2.980000</td>\n",
       "      <td>1017.800000</td>\n",
       "    </tr>\n",
       "    <tr>\n",
       "      <th>2</th>\n",
       "      <td>2013-01-03</td>\n",
       "      <td>7.166667</td>\n",
       "      <td>87.0</td>\n",
       "      <td>4.633333</td>\n",
       "      <td>1018.666667</td>\n",
       "    </tr>\n",
       "  </tbody>\n",
       "</table>\n",
       "</div>"
      ],
      "text/plain": [
       "        date   meantemp  humidity  wind_speed  meanpressure\n",
       "0 2013-01-01  10.000000      84.5    0.000000   1015.666667\n",
       "1 2013-01-02   7.400000      92.0    2.980000   1017.800000\n",
       "2 2013-01-03   7.166667      87.0    4.633333   1018.666667"
      ]
     },
     "execution_count": 14,
     "metadata": {},
     "output_type": "execute_result"
    }
   ],
   "source": [
    "data = pd.read_csv(\"DailyDelhiClimateTrain.csv\")\n",
    "data[\"date\"] = pd.to_datetime(data[\"date\"])\n",
    "data.head(3)"
   ]
  },
  {
   "cell_type": "markdown",
   "metadata": {},
   "source": [
    "Realice el preprocesamiento de la serie de tiempo __meantemp__ a manera de que sea una serie estacionaria con media 0 y varianza de 1. Una vez hecho, ajuste un modelo $AR(p)$ y $MA(q)$ para la misma serie de tiempo utilizando sus implementaciones. Pruebe cada uno de los métodos implementados."
   ]
  },
  {
   "cell_type": "code",
   "execution_count": 15,
   "metadata": {},
   "outputs": [
    {
     "name": "stdout",
     "output_type": "stream",
     "text": [
      "phi(z) = 1 -1.0z^1 -0.971102695879089z^2 -0.138938971431124z^3 Roots: [ 1.64266536 -0.45798285 -0.18468251]\n",
      "Causal: False\n"
     ]
    },
    {
     "name": "stderr",
     "output_type": "stream",
     "text": [
      "/opt/homebrew/lib/python3.11/site-packages/statsmodels/graphics/tsaplots.py:348: FutureWarning: The default method 'yw' can produce PACF values outside of the [-1,1] interval. After 0.13, the default will change tounadjusted Yule-Walker ('ywm'). You can use this method now by setting method='ywm'.\n",
      "  warnings.warn(\n"
     ]
    },
    {
     "ename": "ValueError",
     "evalue": "Can only compute partial correlations for lags up to 50% of the sample size. The requested nlags 2 must be < 1.",
     "output_type": "error",
     "traceback": [
      "\u001b[0;31m---------------------------------------------------------------------------\u001b[0m",
      "\u001b[0;31mValueError\u001b[0m                                Traceback (most recent call last)",
      "Cell \u001b[0;32mIn[15], line 20\u001b[0m\n\u001b[1;32m     18\u001b[0m ar_model\u001b[39m.\u001b[39mprint_roots() \u001b[39m# Imprime las raíces del polinomio asociado al modelo AR usando el método print_roots\u001b[39;00m\n\u001b[1;32m     19\u001b[0m \u001b[39mprint\u001b[39m(\u001b[39mf\u001b[39m\u001b[39m\"\u001b[39m\u001b[39mCausal: \u001b[39m\u001b[39m{\u001b[39;00mar_model\u001b[39m.\u001b[39mis_causal()\u001b[39m}\u001b[39;00m\u001b[39m\"\u001b[39m) \u001b[39m# Imprime si el polinomio es causal o no usando el método is_causal\u001b[39;00m\n\u001b[0;32m---> 20\u001b[0m ar_model\u001b[39m.\u001b[39;49mplot_pacf() \u001b[39m# Grafica la función de autocorrelación parcial (PACF) usando el método plot_pacf\u001b[39;00m\n\u001b[1;32m     22\u001b[0m \u001b[39m# Ajusta un modelo MA(q) para la serie meantemp\u001b[39;00m\n\u001b[1;32m     23\u001b[0m q \u001b[39m=\u001b[39m \u001b[39m2\u001b[39m \u001b[39m# Define el orden q del modelo MA\u001b[39;00m\n",
      "Cell \u001b[0;32mIn[11], line 33\u001b[0m, in \u001b[0;36mAR.plot_pacf\u001b[0;34m(self)\u001b[0m\n\u001b[1;32m     31\u001b[0m \u001b[39mdef\u001b[39;00m \u001b[39mplot_pacf\u001b[39m(\u001b[39mself\u001b[39m): \u001b[39m# Define un método llamado plot_pacf que grafica la función de autocorrelación parcial (PACF)\u001b[39;00m\n\u001b[1;32m     32\u001b[0m     \u001b[39mfrom\u001b[39;00m \u001b[39mstatsmodels\u001b[39;00m\u001b[39m.\u001b[39;00m\u001b[39mgraphics\u001b[39;00m\u001b[39m.\u001b[39;00m\u001b[39mtsaplots\u001b[39;00m \u001b[39mimport\u001b[39;00m plot_pacf \u001b[39m# Importa la función plot_pacf para graficar la PACF\u001b[39;00m\n\u001b[0;32m---> 33\u001b[0m     plot_pacf(\u001b[39mself\u001b[39;49m\u001b[39m.\u001b[39;49mphi)\n",
      "File \u001b[0;32m/opt/homebrew/lib/python3.11/site-packages/statsmodels/graphics/tsaplots.py:363\u001b[0m, in \u001b[0;36mplot_pacf\u001b[0;34m(x, ax, lags, alpha, method, use_vlines, title, zero, vlines_kwargs, **kwargs)\u001b[0m\n\u001b[1;32m    361\u001b[0m     acf_x \u001b[39m=\u001b[39m pacf(x, nlags\u001b[39m=\u001b[39mnlags, alpha\u001b[39m=\u001b[39malpha, method\u001b[39m=\u001b[39mmethod)\n\u001b[1;32m    362\u001b[0m \u001b[39melse\u001b[39;00m:\n\u001b[0;32m--> 363\u001b[0m     acf_x, confint \u001b[39m=\u001b[39m pacf(x, nlags\u001b[39m=\u001b[39;49mnlags, alpha\u001b[39m=\u001b[39;49malpha, method\u001b[39m=\u001b[39;49mmethod)\n\u001b[1;32m    365\u001b[0m _plot_corr(\n\u001b[1;32m    366\u001b[0m     ax,\n\u001b[1;32m    367\u001b[0m     title,\n\u001b[0;32m   (...)\u001b[0m\n\u001b[1;32m    374\u001b[0m     \u001b[39m*\u001b[39m\u001b[39m*\u001b[39mkwargs,\n\u001b[1;32m    375\u001b[0m )\n\u001b[1;32m    377\u001b[0m \u001b[39mreturn\u001b[39;00m fig\n",
      "File \u001b[0;32m/opt/homebrew/lib/python3.11/site-packages/statsmodels/tsa/stattools.py:996\u001b[0m, in \u001b[0;36mpacf\u001b[0;34m(x, nlags, method, alpha)\u001b[0m\n\u001b[1;32m    994\u001b[0m     nlags \u001b[39m=\u001b[39m \u001b[39mmin\u001b[39m(\u001b[39mint\u001b[39m(\u001b[39m10\u001b[39m \u001b[39m*\u001b[39m np\u001b[39m.\u001b[39mlog10(nobs)), nobs \u001b[39m/\u001b[39m\u001b[39m/\u001b[39m \u001b[39m2\u001b[39m \u001b[39m-\u001b[39m \u001b[39m1\u001b[39m)\n\u001b[1;32m    995\u001b[0m \u001b[39mif\u001b[39;00m nlags \u001b[39m>\u001b[39m\u001b[39m=\u001b[39m x\u001b[39m.\u001b[39mshape[\u001b[39m0\u001b[39m] \u001b[39m/\u001b[39m\u001b[39m/\u001b[39m \u001b[39m2\u001b[39m:\n\u001b[0;32m--> 996\u001b[0m     \u001b[39mraise\u001b[39;00m \u001b[39mValueError\u001b[39;00m(\n\u001b[1;32m    997\u001b[0m         \u001b[39m\"\u001b[39m\u001b[39mCan only compute partial correlations for lags up to 50\u001b[39m\u001b[39m% o\u001b[39;00m\u001b[39mf the \u001b[39m\u001b[39m\"\u001b[39m\n\u001b[1;32m    998\u001b[0m         \u001b[39mf\u001b[39m\u001b[39m\"\u001b[39m\u001b[39msample size. The requested nlags \u001b[39m\u001b[39m{\u001b[39;00mnlags\u001b[39m}\u001b[39;00m\u001b[39m must be < \u001b[39m\u001b[39m\"\u001b[39m\n\u001b[1;32m    999\u001b[0m         \u001b[39mf\u001b[39m\u001b[39m\"\u001b[39m\u001b[39m{\u001b[39;00mx\u001b[39m.\u001b[39mshape[\u001b[39m0\u001b[39m]\u001b[39m \u001b[39m\u001b[39m/\u001b[39m\u001b[39m/\u001b[39m\u001b[39m \u001b[39m\u001b[39m2\u001b[39m\u001b[39m}\u001b[39;00m\u001b[39m.\u001b[39m\u001b[39m\"\u001b[39m\n\u001b[1;32m   1000\u001b[0m     )\n\u001b[1;32m   1002\u001b[0m \u001b[39mif\u001b[39;00m method \u001b[39min\u001b[39;00m (\u001b[39m\"\u001b[39m\u001b[39mols\u001b[39m\u001b[39m\"\u001b[39m, \u001b[39m\"\u001b[39m\u001b[39mols-inefficient\u001b[39m\u001b[39m\"\u001b[39m, \u001b[39m\"\u001b[39m\u001b[39mols-adjusted\u001b[39m\u001b[39m\"\u001b[39m):\n\u001b[1;32m   1003\u001b[0m     efficient \u001b[39m=\u001b[39m \u001b[39m\"\u001b[39m\u001b[39minefficient\u001b[39m\u001b[39m\"\u001b[39m \u001b[39mnot\u001b[39;00m \u001b[39min\u001b[39;00m method\n",
      "\u001b[0;31mValueError\u001b[0m: Can only compute partial correlations for lags up to 50% of the sample size. The requested nlags 2 must be < 1."
     ]
    },
    {
     "data": {
      "image/png": "[encoded data removed]",
      "text/plain": [
       "<Figure size 640x480 with 1 Axes>"
      ]
     },
     "metadata": {},
     "output_type": "display_data"
    }
   ],
   "source": [
    "import pandas as pd # Importa la librería pandas para manipular datos tabulares\n",
    "from scipy import stats # Importa la librería scipy para realizar pruebas estadísticas\n",
    "\n",
    "# Selecciona la columna meantemp y la convierte en una serie de tiempo\n",
    "meantemp = pd.Series(data['meantemp'].values, index=data['date']) # Crea una Serie de pandas con los valores de la columna meantemp y usa la columna date como índice\n",
    "\n",
    "# Realiza el preprocesamiento de la serie meantemp para que sea estacionaria con media 0 y varianza de 1\n",
    "meantemp = (meantemp - meantemp.mean()) / meantemp.std() # Normaliza la serie restando su media y dividiendo entre su desviación estándar\n",
    "\n",
    "\n",
    "# Ajusta un modelo AR(p) para la serie meantemp\n",
    "p = 2 # Define el orden p del modelo AR\n",
    "ar_model = AR(p) # Crea una instancia de la clase AR con el orden p definido anteriormente\n",
    "ar_model.fit(meantemp) # Ajusta el modelo AR a los datos de meantemp usando el método fit\n",
    "\n",
    "# Prueba los métodos implementados en la clase AR\n",
    "ar_model.print_polynomial() # Imprime el polinomio asociado al modelo AR usando el método print_polynomial\n",
    "ar_model.print_roots() # Imprime las raíces del polinomio asociado al modelo AR usando el método print_roots\n",
    "print(f\"Causal: {ar_model.is_causal()}\") # Imprime si el polinomio es causal o no usando el método is_causal\n",
    "ar_model.plot_pacf() # Grafica la función de autocorrelación parcial (PACF) usando el método plot_pacf\n",
    "\n",
    "# Ajusta un modelo MA(q) para la serie meantemp\n",
    "q = 2 # Define el orden q del modelo MA\n",
    "ma_model = MA(q) # Crea una instancia de la clase MA con el orden q definido anteriormente\n",
    "ma_model.fit(meantemp) # Ajusta el modelo MA a los datos de meantemp usando el método fit\n",
    "\n",
    "# Prueba los métodos implementados en la clase MA\n",
    "ma_model.print_polynomial() # Imprime el polinomio asociado al modelo MA usando el método print_polynomial\n",
    "ma_model.print_roots() # Imprime las raíces del polinomio asociado al modelo MA usando el método print_roots\n",
    "print(f\"Invertible: {ma_model.is_invertible()}\") # Imprime si el polinomio es invertible o no usando el método is_invertible.\n"
   ]
  },
  {
   "cell_type": "code",
   "execution_count": null,
   "metadata": {},
   "outputs": [],
   "source": []
  }
 ],
 "metadata": {
  "kernelspec": {
   "display_name": "Python 3 (ipykernel)",
   "language": "python",
   "name": "python3"
  },
  "language_info": {
   "codemirror_mode": {
    "name": "ipython",
    "version": 3
   },
   "file_extension": ".py",
   "mimetype": "text/x-python",
   "name": "python",
   "nbconvert_exporter": "python",
   "pygments_lexer": "ipython3",
   "version": "3.11.2"
  }
 },
 "nbformat": 4,
 "nbformat_minor": 4
}
