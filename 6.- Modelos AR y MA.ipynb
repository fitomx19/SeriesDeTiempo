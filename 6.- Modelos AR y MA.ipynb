{
 "cells": [
  {
   "attachments": {},
   "cell_type": "markdown",
   "metadata": {},
   "source": [
    "### Práctica Modelos AR y MA "
   ]
  },
  {
   "attachments": {},
   "cell_type": "markdown",
   "metadata": {},
   "source": [
    "1.- Diseñe una clase para un modelo __AR(p)__ y una para un modelo __MA(q)__. Cada clase debe permitir\n",
    "\n",
    "1. Recibir el orden para el que sera entrenado. (p o q según sea el caso)\n",
    "2. Ajustar los parámetros usando los algoritmos de Durvin-Levinson o Innovations según sea el caso. \n",
    "3. Determinar el polinomio asociado a cada modelo y sus raices.\n",
    "4. Determinar si el modelo es invertible o causal según sea el caso.\n",
    "5. Obtener los valores de PACF cuando aplique."
   ]
  },
  {
   "cell_type": "code",
   "execution_count": 1,
   "metadata": {},
   "outputs": [],
   "source": [
    "import numpy as np\n",
    "from scipy.linalg import toeplitz\n",
    "\n",
    "class AR:\n",
    "    def __init__(self, p):\n",
    "        self.p = p\n",
    "        self.coef = np.zeros(p)\n",
    "        self.sigma2 = 0\n",
    "        \n",
    "    def fit(self, data):\n",
    "        T = len(data)\n",
    "        y = np.zeros(T - self.p)\n",
    "        X = np.zeros((T - self.p, self.p))\n",
    "        for t in range(self.p, T):\n",
    "            y[t - self.p] = data[t]\n",
    "            X[t - self.p, :] = data[t - self.p:t]\n",
    "        self.coef = np.linalg.inv(X.T @ X) @ X.T @ y\n",
    "        eps = y - X @ self.coef\n",
    "        self.sigma2 = np.sum(eps ** 2) / (T - self.p)\n",
    "        return self\n",
    "    \n",
    "    def ar_poly(self):\n",
    "        return np.concatenate(([1], -self.coef))\n",
    "    \n",
    "    def ar_roots(self):\n",
    "        return np.roots(self.ar_poly())\n",
    "    \n",
    "    def is_invertible(self):\n",
    "        return np.all(np.abs(self.ar_roots()) > 1)\n",
    "    \n",
    "    def pacf(self):\n",
    "        pacf = np.zeros(self.p + 1)\n",
    "        pacf[0] = 1\n",
    "        pacf[1:] = self.coef\n",
    "        return pacf\n",
    "\n",
    "\n",
    "class MA:\n",
    "    def __init__(self, q):\n",
    "        self.q = q\n",
    "        self.coef = np.zeros(q)\n",
    "        self.sigma2 = 0\n",
    "        \n",
    "    def fit(self, data):\n",
    "        T = len(data)\n",
    "        eps = np.zeros(T - self.q)\n",
    "        theta = np.zeros(self.q)\n",
    "        for t in range(self.q, T):\n",
    "            eps[t - self.q] = data[t] - theta @ data[t - self.q:t][::-1]\n",
    "            theta -= np.linalg.inv(toeplitz(data[t - self.q:t])) @ eps[t - self.q] * np.array([1] + list(theta))\n",
    "        self.coef = theta\n",
    "        self.sigma2 = np.sum(eps ** 2) / (T - self.q)\n",
    "        return self\n",
    "    \n",
    "    def ma_poly(self):\n",
    "        return np.concatenate(([1], self.coef))\n",
    "    \n",
    "    def ma_roots(self):\n",
    "        return np.roots(self.ma_poly())\n",
    "    \n",
    "    def is_causal(self):\n",
    "        return np.all(np.abs(self.ma_roots()) > 1)\n",
    "    \n",
    "    def pacf(self):\n",
    "        return np.zeros(self.q + 1)\n"
   ]
  },
  {
   "attachments": {},
   "cell_type": "markdown",
   "metadata": {},
   "source": [
    "2.- Probar las clases en un dataset (todavia no sé cuál)"
   ]
  },
  {
   "cell_type": "code",
   "execution_count": 2,
   "metadata": {},
   "outputs": [],
   "source": [
    "import pandas as pd\n",
    "from statsmodels.graphics.tsaplots import plot_pacf\n",
    "\n",
    "data = pd.read_csv('https://raw.githubusercontent.com/jbrownlee/Datasets/master/airline-passengers.csv', \n",
    "                   index_col='Month', parse_dates=['Month'])\n",
    "train = data.loc[:'1958']\n",
    "test = data.loc['1959']\n"
   ]
  },
  {
   "cell_type": "code",
   "execution_count": 4,
   "metadata": {},
   "outputs": [
    {
     "ename": "KeyError",
     "evalue": "3",
     "output_type": "error",
     "traceback": [
      "\u001b[0;31m---------------------------------------------------------------------------\u001b[0m",
      "\u001b[0;31mKeyError\u001b[0m                                  Traceback (most recent call last)",
      "File \u001b[0;32m/opt/homebrew/lib/python3.11/site-packages/pandas/core/indexes/base.py:3802\u001b[0m, in \u001b[0;36mIndex.get_loc\u001b[0;34m(self, key, method, tolerance)\u001b[0m\n\u001b[1;32m   3801\u001b[0m \u001b[39mtry\u001b[39;00m:\n\u001b[0;32m-> 3802\u001b[0m     \u001b[39mreturn\u001b[39;00m \u001b[39mself\u001b[39;49m\u001b[39m.\u001b[39;49m_engine\u001b[39m.\u001b[39;49mget_loc(casted_key)\n\u001b[1;32m   3803\u001b[0m \u001b[39mexcept\u001b[39;00m \u001b[39mKeyError\u001b[39;00m \u001b[39mas\u001b[39;00m err:\n",
      "File \u001b[0;32m/opt/homebrew/lib/python3.11/site-packages/pandas/_libs/index.pyx:138\u001b[0m, in \u001b[0;36mpandas._libs.index.IndexEngine.get_loc\u001b[0;34m()\u001b[0m\n",
      "File \u001b[0;32m/opt/homebrew/lib/python3.11/site-packages/pandas/_libs/index.pyx:165\u001b[0m, in \u001b[0;36mpandas._libs.index.IndexEngine.get_loc\u001b[0;34m()\u001b[0m\n",
      "File \u001b[0;32mpandas/_libs/hashtable_class_helper.pxi:5745\u001b[0m, in \u001b[0;36mpandas._libs.hashtable.PyObjectHashTable.get_item\u001b[0;34m()\u001b[0m\n",
      "File \u001b[0;32mpandas/_libs/hashtable_class_helper.pxi:5753\u001b[0m, in \u001b[0;36mpandas._libs.hashtable.PyObjectHashTable.get_item\u001b[0;34m()\u001b[0m\n",
      "\u001b[0;31mKeyError\u001b[0m: 3",
      "\nThe above exception was the direct cause of the following exception:\n",
      "\u001b[0;31mKeyError\u001b[0m                                  Traceback (most recent call last)",
      "Cell \u001b[0;32mIn[4], line 1\u001b[0m\n\u001b[0;32m----> 1\u001b[0m ar_model \u001b[39m=\u001b[39m AR(p\u001b[39m=\u001b[39;49m\u001b[39m3\u001b[39;49m)\u001b[39m.\u001b[39;49mfit(train)\n\u001b[1;32m      2\u001b[0m \u001b[39mprint\u001b[39m(\u001b[39m\"\u001b[39m\u001b[39mCoeficientes AR:\u001b[39m\u001b[39m\"\u001b[39m, ar_model\u001b[39m.\u001b[39mcoef)\n\u001b[1;32m      3\u001b[0m \u001b[39mprint\u001b[39m(\u001b[39m\"\u001b[39m\u001b[39mPolinomio AR:\u001b[39m\u001b[39m\"\u001b[39m, ar_model\u001b[39m.\u001b[39mar_poly())\n",
      "Cell \u001b[0;32mIn[1], line 15\u001b[0m, in \u001b[0;36mAR.fit\u001b[0;34m(self, data)\u001b[0m\n\u001b[1;32m     13\u001b[0m X \u001b[39m=\u001b[39m np\u001b[39m.\u001b[39mzeros((T \u001b[39m-\u001b[39m \u001b[39mself\u001b[39m\u001b[39m.\u001b[39mp, \u001b[39mself\u001b[39m\u001b[39m.\u001b[39mp))\n\u001b[1;32m     14\u001b[0m \u001b[39mfor\u001b[39;00m t \u001b[39min\u001b[39;00m \u001b[39mrange\u001b[39m(\u001b[39mself\u001b[39m\u001b[39m.\u001b[39mp, T):\n\u001b[0;32m---> 15\u001b[0m     y[t \u001b[39m-\u001b[39m \u001b[39mself\u001b[39m\u001b[39m.\u001b[39mp] \u001b[39m=\u001b[39m data[t]\n\u001b[1;32m     16\u001b[0m     X[t \u001b[39m-\u001b[39m \u001b[39mself\u001b[39m\u001b[39m.\u001b[39mp, :] \u001b[39m=\u001b[39m data[t \u001b[39m-\u001b[39m \u001b[39mself\u001b[39m\u001b[39m.\u001b[39mp:t]\n\u001b[1;32m     17\u001b[0m \u001b[39mself\u001b[39m\u001b[39m.\u001b[39mcoef \u001b[39m=\u001b[39m np\u001b[39m.\u001b[39mlinalg\u001b[39m.\u001b[39minv(X\u001b[39m.\u001b[39mT \u001b[39m@\u001b[39m X) \u001b[39m@\u001b[39m X\u001b[39m.\u001b[39mT \u001b[39m@\u001b[39m y\n",
      "File \u001b[0;32m/opt/homebrew/lib/python3.11/site-packages/pandas/core/frame.py:3807\u001b[0m, in \u001b[0;36mDataFrame.__getitem__\u001b[0;34m(self, key)\u001b[0m\n\u001b[1;32m   3805\u001b[0m \u001b[39mif\u001b[39;00m \u001b[39mself\u001b[39m\u001b[39m.\u001b[39mcolumns\u001b[39m.\u001b[39mnlevels \u001b[39m>\u001b[39m \u001b[39m1\u001b[39m:\n\u001b[1;32m   3806\u001b[0m     \u001b[39mreturn\u001b[39;00m \u001b[39mself\u001b[39m\u001b[39m.\u001b[39m_getitem_multilevel(key)\n\u001b[0;32m-> 3807\u001b[0m indexer \u001b[39m=\u001b[39m \u001b[39mself\u001b[39;49m\u001b[39m.\u001b[39;49mcolumns\u001b[39m.\u001b[39;49mget_loc(key)\n\u001b[1;32m   3808\u001b[0m \u001b[39mif\u001b[39;00m is_integer(indexer):\n\u001b[1;32m   3809\u001b[0m     indexer \u001b[39m=\u001b[39m [indexer]\n",
      "File \u001b[0;32m/opt/homebrew/lib/python3.11/site-packages/pandas/core/indexes/base.py:3804\u001b[0m, in \u001b[0;36mIndex.get_loc\u001b[0;34m(self, key, method, tolerance)\u001b[0m\n\u001b[1;32m   3802\u001b[0m     \u001b[39mreturn\u001b[39;00m \u001b[39mself\u001b[39m\u001b[39m.\u001b[39m_engine\u001b[39m.\u001b[39mget_loc(casted_key)\n\u001b[1;32m   3803\u001b[0m \u001b[39mexcept\u001b[39;00m \u001b[39mKeyError\u001b[39;00m \u001b[39mas\u001b[39;00m err:\n\u001b[0;32m-> 3804\u001b[0m     \u001b[39mraise\u001b[39;00m \u001b[39mKeyError\u001b[39;00m(key) \u001b[39mfrom\u001b[39;00m \u001b[39merr\u001b[39;00m\n\u001b[1;32m   3805\u001b[0m \u001b[39mexcept\u001b[39;00m \u001b[39mTypeError\u001b[39;00m:\n\u001b[1;32m   3806\u001b[0m     \u001b[39m# If we have a listlike key, _check_indexing_error will raise\u001b[39;00m\n\u001b[1;32m   3807\u001b[0m     \u001b[39m#  InvalidIndexError. Otherwise we fall through and re-raise\u001b[39;00m\n\u001b[1;32m   3808\u001b[0m     \u001b[39m#  the TypeError.\u001b[39;00m\n\u001b[1;32m   3809\u001b[0m     \u001b[39mself\u001b[39m\u001b[39m.\u001b[39m_check_indexing_error(key)\n",
      "\u001b[0;31mKeyError\u001b[0m: 3"
     ]
    }
   ],
   "source": [
    "ar_model = AR(p=3).fit(train)\n",
    "print(\"Coeficientes AR:\", ar_model.coef)\n",
    "print(\"Polinomio AR:\", ar_model.ar_poly())\n",
    "print(\"Raíces AR:\", ar_model.ar_roots())\n",
    "print(\"¿El modelo AR es invertible?:\", ar_model.is_invertible())\n",
    "print(\"PACF AR:\", ar_model.pacf())\n",
    "\n",
    "\n"
   ]
  },
  {
   "cell_type": "code",
   "execution_count": 5,
   "metadata": {},
   "outputs": [
    {
     "ename": "KeyError",
     "evalue": "3",
     "output_type": "error",
     "traceback": [
      "\u001b[0;31m---------------------------------------------------------------------------\u001b[0m",
      "\u001b[0;31mKeyError\u001b[0m                                  Traceback (most recent call last)",
      "File \u001b[0;32m/opt/homebrew/lib/python3.11/site-packages/pandas/core/indexes/base.py:3802\u001b[0m, in \u001b[0;36mIndex.get_loc\u001b[0;34m(self, key, method, tolerance)\u001b[0m\n\u001b[1;32m   3801\u001b[0m \u001b[39mtry\u001b[39;00m:\n\u001b[0;32m-> 3802\u001b[0m     \u001b[39mreturn\u001b[39;00m \u001b[39mself\u001b[39;49m\u001b[39m.\u001b[39;49m_engine\u001b[39m.\u001b[39;49mget_loc(casted_key)\n\u001b[1;32m   3803\u001b[0m \u001b[39mexcept\u001b[39;00m \u001b[39mKeyError\u001b[39;00m \u001b[39mas\u001b[39;00m err:\n",
      "File \u001b[0;32m/opt/homebrew/lib/python3.11/site-packages/pandas/_libs/index.pyx:138\u001b[0m, in \u001b[0;36mpandas._libs.index.IndexEngine.get_loc\u001b[0;34m()\u001b[0m\n",
      "File \u001b[0;32m/opt/homebrew/lib/python3.11/site-packages/pandas/_libs/index.pyx:165\u001b[0m, in \u001b[0;36mpandas._libs.index.IndexEngine.get_loc\u001b[0;34m()\u001b[0m\n",
      "File \u001b[0;32mpandas/_libs/hashtable_class_helper.pxi:5745\u001b[0m, in \u001b[0;36mpandas._libs.hashtable.PyObjectHashTable.get_item\u001b[0;34m()\u001b[0m\n",
      "File \u001b[0;32mpandas/_libs/hashtable_class_helper.pxi:5753\u001b[0m, in \u001b[0;36mpandas._libs.hashtable.PyObjectHashTable.get_item\u001b[0;34m()\u001b[0m\n",
      "\u001b[0;31mKeyError\u001b[0m: 3",
      "\nThe above exception was the direct cause of the following exception:\n",
      "\u001b[0;31mKeyError\u001b[0m                                  Traceback (most recent call last)",
      "Cell \u001b[0;32mIn[5], line 1\u001b[0m\n\u001b[0;32m----> 1\u001b[0m ma_model \u001b[39m=\u001b[39m MA(q\u001b[39m=\u001b[39;49m\u001b[39m3\u001b[39;49m)\u001b[39m.\u001b[39;49mfit(train)\n\u001b[1;32m      2\u001b[0m \u001b[39mprint\u001b[39m(\u001b[39m\"\u001b[39m\u001b[39mCoeficientes MA:\u001b[39m\u001b[39m\"\u001b[39m, ma_model\u001b[39m.\u001b[39mcoef)\n\u001b[1;32m      3\u001b[0m \u001b[39mprint\u001b[39m(\u001b[39m\"\u001b[39m\u001b[39mPolinomio MA:\u001b[39m\u001b[39m\"\u001b[39m, ma_model\u001b[39m.\u001b[39mma_poly())\n",
      "Cell \u001b[0;32mIn[1], line 49\u001b[0m, in \u001b[0;36mMA.fit\u001b[0;34m(self, data)\u001b[0m\n\u001b[1;32m     47\u001b[0m theta \u001b[39m=\u001b[39m np\u001b[39m.\u001b[39mzeros(\u001b[39mself\u001b[39m\u001b[39m.\u001b[39mq)\n\u001b[1;32m     48\u001b[0m \u001b[39mfor\u001b[39;00m t \u001b[39min\u001b[39;00m \u001b[39mrange\u001b[39m(\u001b[39mself\u001b[39m\u001b[39m.\u001b[39mq, T):\n\u001b[0;32m---> 49\u001b[0m     eps[t \u001b[39m-\u001b[39m \u001b[39mself\u001b[39m\u001b[39m.\u001b[39mq] \u001b[39m=\u001b[39m data[t] \u001b[39m-\u001b[39m theta \u001b[39m@\u001b[39m data[t \u001b[39m-\u001b[39m \u001b[39mself\u001b[39m\u001b[39m.\u001b[39mq:t][::\u001b[39m-\u001b[39m\u001b[39m1\u001b[39m]\n\u001b[1;32m     50\u001b[0m     theta \u001b[39m-\u001b[39m\u001b[39m=\u001b[39m np\u001b[39m.\u001b[39mlinalg\u001b[39m.\u001b[39minv(toeplitz(data[t \u001b[39m-\u001b[39m \u001b[39mself\u001b[39m\u001b[39m.\u001b[39mq:t])) \u001b[39m@\u001b[39m eps[t \u001b[39m-\u001b[39m \u001b[39mself\u001b[39m\u001b[39m.\u001b[39mq] \u001b[39m*\u001b[39m np\u001b[39m.\u001b[39marray([\u001b[39m1\u001b[39m] \u001b[39m+\u001b[39m \u001b[39mlist\u001b[39m(theta))\n\u001b[1;32m     51\u001b[0m \u001b[39mself\u001b[39m\u001b[39m.\u001b[39mcoef \u001b[39m=\u001b[39m theta\n",
      "File \u001b[0;32m/opt/homebrew/lib/python3.11/site-packages/pandas/core/frame.py:3807\u001b[0m, in \u001b[0;36mDataFrame.__getitem__\u001b[0;34m(self, key)\u001b[0m\n\u001b[1;32m   3805\u001b[0m \u001b[39mif\u001b[39;00m \u001b[39mself\u001b[39m\u001b[39m.\u001b[39mcolumns\u001b[39m.\u001b[39mnlevels \u001b[39m>\u001b[39m \u001b[39m1\u001b[39m:\n\u001b[1;32m   3806\u001b[0m     \u001b[39mreturn\u001b[39;00m \u001b[39mself\u001b[39m\u001b[39m.\u001b[39m_getitem_multilevel(key)\n\u001b[0;32m-> 3807\u001b[0m indexer \u001b[39m=\u001b[39m \u001b[39mself\u001b[39;49m\u001b[39m.\u001b[39;49mcolumns\u001b[39m.\u001b[39;49mget_loc(key)\n\u001b[1;32m   3808\u001b[0m \u001b[39mif\u001b[39;00m is_integer(indexer):\n\u001b[1;32m   3809\u001b[0m     indexer \u001b[39m=\u001b[39m [indexer]\n",
      "File \u001b[0;32m/opt/homebrew/lib/python3.11/site-packages/pandas/core/indexes/base.py:3804\u001b[0m, in \u001b[0;36mIndex.get_loc\u001b[0;34m(self, key, method, tolerance)\u001b[0m\n\u001b[1;32m   3802\u001b[0m     \u001b[39mreturn\u001b[39;00m \u001b[39mself\u001b[39m\u001b[39m.\u001b[39m_engine\u001b[39m.\u001b[39mget_loc(casted_key)\n\u001b[1;32m   3803\u001b[0m \u001b[39mexcept\u001b[39;00m \u001b[39mKeyError\u001b[39;00m \u001b[39mas\u001b[39;00m err:\n\u001b[0;32m-> 3804\u001b[0m     \u001b[39mraise\u001b[39;00m \u001b[39mKeyError\u001b[39;00m(key) \u001b[39mfrom\u001b[39;00m \u001b[39merr\u001b[39;00m\n\u001b[1;32m   3805\u001b[0m \u001b[39mexcept\u001b[39;00m \u001b[39mTypeError\u001b[39;00m:\n\u001b[1;32m   3806\u001b[0m     \u001b[39m# If we have a listlike key, _check_indexing_error will raise\u001b[39;00m\n\u001b[1;32m   3807\u001b[0m     \u001b[39m#  InvalidIndexError. Otherwise we fall through and re-raise\u001b[39;00m\n\u001b[1;32m   3808\u001b[0m     \u001b[39m#  the TypeError.\u001b[39;00m\n\u001b[1;32m   3809\u001b[0m     \u001b[39mself\u001b[39m\u001b[39m.\u001b[39m_check_indexing_error(key)\n",
      "\u001b[0;31mKeyError\u001b[0m: 3"
     ]
    }
   ],
   "source": [
    "ma_model = MA(q=3).fit(train)\n",
    "print(\"Coeficientes MA:\", ma_model.coef)\n",
    "print(\"Polinomio MA:\", ma_model.ma_poly())\n",
    "print(\"Raíces MA:\", ma_model.ma_roots())\n",
    "print(\"¿El modelo MA es causal?:\", ma_model.is_causal())\n",
    "print(\"PACF MA:\", ma_model.pacf())"
   ]
  },
  {
   "cell_type": "code",
   "execution_count": null,
   "metadata": {},
   "outputs": [],
   "source": [
    "import matplotlib.pyplot as plt\n",
    "\n",
    "fig, ax = plt.subplots(figsize=(10, 6))\n",
    "\n",
    "# Serie de tiempo original\n",
    "ax.plot(test.index, test.values, label='Observaciones')\n",
    "\n",
    "# Predicciones del modelo AR(3)\n",
    "ar_pred = ar_model.ar_poly()\n",
    "ar_pred = np.concatenate((ar_pred, np.zeros(len(test)-len(ar_pred))))\n",
    "ar_pred = np.convolve(test.values, ar_pred[::-1], mode='valid')\n",
    "ax.plot(test.index, ar_pred, label='AR(3)')\n",
    "\n",
    "# Predicciones del modelo MA(3)\n",
    "ma_pred = ma_model.ma_poly()\n",
    "ma_pred = np.concatenate(([1], np.zeros(len(test)-1)))\n",
    "ma_pred = np.convolve(test.values, ma_pred[::-1], mode='valid')\n",
    "ax.plot(test.index, ma_pred, label='MA(3)')\n",
    "\n",
    "ax.legend()\n",
    "plt.show()\n"
   ]
  }
 ],
 "metadata": {
  "kernelspec": {
   "display_name": "Python 3",
   "language": "python",
   "name": "python3"
  },
  "language_info": {
   "codemirror_mode": {
    "name": "ipython",
    "version": 3
   },
   "file_extension": ".py",
   "mimetype": "text/x-python",
   "name": "python",
   "nbconvert_exporter": "python",
   "pygments_lexer": "ipython3",
   "version": "3.11.2"
  },
  "orig_nbformat": 4
 },
 "nbformat": 4,
 "nbformat_minor": 2
}
